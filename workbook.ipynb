{
 "cells": [
  {
   "cell_type": "code",
   "execution_count": 10,
   "metadata": {},
   "outputs": [
    {
     "name": "stderr",
     "output_type": "stream",
     "text": [
      "2023-07-28 18:31:39.471702: I tensorflow/core/platform/cpu_feature_guard.cc:193] This TensorFlow binary is optimized with oneAPI Deep Neural Network Library (oneDNN) to use the following CPU instructions in performance-critical operations:  AVX2 FMA\n",
      "To enable them in other operations, rebuild TensorFlow with the appropriate compiler flags.\n",
      "2023-07-28 18:31:40.172139: W tensorflow/compiler/xla/stream_executor/platform/default/dso_loader.cc:64] Could not load dynamic library 'libcudart.so.11.0'; dlerror: libcudart.so.11.0: cannot open shared object file: No such file or directory\n",
      "2023-07-28 18:31:40.172291: I tensorflow/compiler/xla/stream_executor/cuda/cudart_stub.cc:29] Ignore above cudart dlerror if you do not have a GPU set up on your machine.\n",
      "2023-07-28 18:31:41.616276: W tensorflow/compiler/xla/stream_executor/platform/default/dso_loader.cc:64] Could not load dynamic library 'libnvinfer.so.7'; dlerror: libnvinfer.so.7: cannot open shared object file: No such file or directory\n",
      "2023-07-28 18:31:41.618851: W tensorflow/compiler/xla/stream_executor/platform/default/dso_loader.cc:64] Could not load dynamic library 'libnvinfer_plugin.so.7'; dlerror: libnvinfer_plugin.so.7: cannot open shared object file: No such file or directory\n",
      "2023-07-28 18:31:41.618869: W tensorflow/compiler/tf2tensorrt/utils/py_utils.cc:38] TF-TRT Warning: Cannot dlopen some TensorRT libraries. If you would like to use Nvidia GPU with TensorRT, please make sure the missing libraries mentioned above are installed properly.\n"
     ]
    }
   ],
   "source": [
    "from utils import load_encoder_hparams_and_params\n",
    "encoder, hparams, params = load_encoder_hparams_and_params(\"124M\", \"models\")"
   ]
  },
  {
   "cell_type": "code",
   "execution_count": 11,
   "metadata": {},
   "outputs": [
    {
     "data": {
      "text/plain": [
       "{'n_vocab': 50257, 'n_ctx': 1024, 'n_embd': 768, 'n_head': 12, 'n_layer': 12}"
      ]
     },
     "execution_count": 11,
     "metadata": {},
     "output_type": "execute_result"
    }
   ],
   "source": [
    "hparams"
   ]
  },
  {
   "cell_type": "code",
   "execution_count": 13,
   "metadata": {},
   "outputs": [
    {
     "data": {
      "text/plain": [
       "{'blocks': [{'attn': {'c_attn': {'b': [2304], 'w': [768, 2304]},\n",
       "    'c_proj': {'b': [768], 'w': [768, 768]}},\n",
       "   'ln_1': {'b': [768], 'g': [768]},\n",
       "   'ln_2': {'b': [768], 'g': [768]},\n",
       "   'mlp': {'c_fc': {'b': [3072], 'w': [768, 3072]},\n",
       "    'c_proj': {'b': [768], 'w': [3072, 768]}}},\n",
       "  {'attn': {'c_attn': {'b': [2304], 'w': [768, 2304]},\n",
       "    'c_proj': {'b': [768], 'w': [768, 768]}},\n",
       "   'ln_1': {'b': [768], 'g': [768]},\n",
       "   'ln_2': {'b': [768], 'g': [768]},\n",
       "   'mlp': {'c_fc': {'b': [3072], 'w': [768, 3072]},\n",
       "    'c_proj': {'b': [768], 'w': [3072, 768]}}},\n",
       "  {'attn': {'c_attn': {'b': [2304], 'w': [768, 2304]},\n",
       "    'c_proj': {'b': [768], 'w': [768, 768]}},\n",
       "   'ln_1': {'b': [768], 'g': [768]},\n",
       "   'ln_2': {'b': [768], 'g': [768]},\n",
       "   'mlp': {'c_fc': {'b': [3072], 'w': [768, 3072]},\n",
       "    'c_proj': {'b': [768], 'w': [3072, 768]}}},\n",
       "  {'attn': {'c_attn': {'b': [2304], 'w': [768, 2304]},\n",
       "    'c_proj': {'b': [768], 'w': [768, 768]}},\n",
       "   'ln_1': {'b': [768], 'g': [768]},\n",
       "   'ln_2': {'b': [768], 'g': [768]},\n",
       "   'mlp': {'c_fc': {'b': [3072], 'w': [768, 3072]},\n",
       "    'c_proj': {'b': [768], 'w': [3072, 768]}}},\n",
       "  {'attn': {'c_attn': {'b': [2304], 'w': [768, 2304]},\n",
       "    'c_proj': {'b': [768], 'w': [768, 768]}},\n",
       "   'ln_1': {'b': [768], 'g': [768]},\n",
       "   'ln_2': {'b': [768], 'g': [768]},\n",
       "   'mlp': {'c_fc': {'b': [3072], 'w': [768, 3072]},\n",
       "    'c_proj': {'b': [768], 'w': [3072, 768]}}},\n",
       "  {'attn': {'c_attn': {'b': [2304], 'w': [768, 2304]},\n",
       "    'c_proj': {'b': [768], 'w': [768, 768]}},\n",
       "   'ln_1': {'b': [768], 'g': [768]},\n",
       "   'ln_2': {'b': [768], 'g': [768]},\n",
       "   'mlp': {'c_fc': {'b': [3072], 'w': [768, 3072]},\n",
       "    'c_proj': {'b': [768], 'w': [3072, 768]}}},\n",
       "  {'attn': {'c_attn': {'b': [2304], 'w': [768, 2304]},\n",
       "    'c_proj': {'b': [768], 'w': [768, 768]}},\n",
       "   'ln_1': {'b': [768], 'g': [768]},\n",
       "   'ln_2': {'b': [768], 'g': [768]},\n",
       "   'mlp': {'c_fc': {'b': [3072], 'w': [768, 3072]},\n",
       "    'c_proj': {'b': [768], 'w': [3072, 768]}}},\n",
       "  {'attn': {'c_attn': {'b': [2304], 'w': [768, 2304]},\n",
       "    'c_proj': {'b': [768], 'w': [768, 768]}},\n",
       "   'ln_1': {'b': [768], 'g': [768]},\n",
       "   'ln_2': {'b': [768], 'g': [768]},\n",
       "   'mlp': {'c_fc': {'b': [3072], 'w': [768, 3072]},\n",
       "    'c_proj': {'b': [768], 'w': [3072, 768]}}},\n",
       "  {'attn': {'c_attn': {'b': [2304], 'w': [768, 2304]},\n",
       "    'c_proj': {'b': [768], 'w': [768, 768]}},\n",
       "   'ln_1': {'b': [768], 'g': [768]},\n",
       "   'ln_2': {'b': [768], 'g': [768]},\n",
       "   'mlp': {'c_fc': {'b': [3072], 'w': [768, 3072]},\n",
       "    'c_proj': {'b': [768], 'w': [3072, 768]}}},\n",
       "  {'attn': {'c_attn': {'b': [2304], 'w': [768, 2304]},\n",
       "    'c_proj': {'b': [768], 'w': [768, 768]}},\n",
       "   'ln_1': {'b': [768], 'g': [768]},\n",
       "   'ln_2': {'b': [768], 'g': [768]},\n",
       "   'mlp': {'c_fc': {'b': [3072], 'w': [768, 3072]},\n",
       "    'c_proj': {'b': [768], 'w': [3072, 768]}}},\n",
       "  {'attn': {'c_attn': {'b': [2304], 'w': [768, 2304]},\n",
       "    'c_proj': {'b': [768], 'w': [768, 768]}},\n",
       "   'ln_1': {'b': [768], 'g': [768]},\n",
       "   'ln_2': {'b': [768], 'g': [768]},\n",
       "   'mlp': {'c_fc': {'b': [3072], 'w': [768, 3072]},\n",
       "    'c_proj': {'b': [768], 'w': [3072, 768]}}},\n",
       "  {'attn': {'c_attn': {'b': [2304], 'w': [768, 2304]},\n",
       "    'c_proj': {'b': [768], 'w': [768, 768]}},\n",
       "   'ln_1': {'b': [768], 'g': [768]},\n",
       "   'ln_2': {'b': [768], 'g': [768]},\n",
       "   'mlp': {'c_fc': {'b': [3072], 'w': [768, 3072]},\n",
       "    'c_proj': {'b': [768], 'w': [3072, 768]}}}],\n",
       " 'ln_f': {'b': [768], 'g': [768]},\n",
       " 'wpe': [1024, 768],\n",
       " 'wte': [50257, 768]}"
      ]
     },
     "execution_count": 13,
     "metadata": {},
     "output_type": "execute_result"
    }
   ],
   "source": [
    "import numpy as np\n",
    "def shape_tree(d):\n",
    "    if isinstance(d, np.ndarray):\n",
    "        return list(d.shape)\n",
    "    elif isinstance(d, list):\n",
    "        return [shape_tree(v) for v in d]\n",
    "    elif isinstance(d, dict):\n",
    "        return {k: shape_tree(v) for k, v in d.items()}\n",
    "    else:\n",
    "        ValueError(\"uh oh\")\n",
    "\n",
    "shape_tree(params)"
   ]
  },
  {
   "cell_type": "code",
   "execution_count": null,
   "metadata": {},
   "outputs": [],
   "source": [
    "{\n",
    "    \"wpe\": [n_ctx, n_embd],\n",
    "    \"wte\": [n_vocab, n_embd],\n",
    "    \"ln_f\": {\"b\": [n_embd], \"g\": [n_embd]},\n",
    "    \"blocks\": [\n",
    "        {\n",
    "            \"attn\": {\n",
    "                \"c_attn\": {\"b\": [3*n_embd], \"w\": [n_embd, 3*n_embd]},\n",
    "                \"c_proj\": {\"b\": [n_embd], \"w\": [n_embd, n_embd]},\n",
    "            },\n",
    "            \"ln_1\": {\"b\": [n_embd], \"g\": [n_embd]},\n",
    "            \"ln_2\": {\"b\": [n_embd], \"g\": [n_embd]},\n",
    "            \"mlp\": {\n",
    "                \"c_fc\": {\"b\": [4*n_embd], \"w\": [n_embd, 4*n_embd]},\n",
    "                \"c_proj\": {\"b\": [n_embd], \"w\": [4*n_embd, n_embd]},\n",
    "            },\n",
    "        },\n",
    "        ... # repeat for n_layers\n",
    "    ]\n",
    "}"
   ]
  }
 ],
 "metadata": {
  "kernelspec": {
   "display_name": "jaxGPT",
   "language": "python",
   "name": "python3"
  },
  "language_info": {
   "codemirror_mode": {
    "name": "ipython",
    "version": 3
   },
   "file_extension": ".py",
   "mimetype": "text/x-python",
   "name": "python",
   "nbconvert_exporter": "python",
   "pygments_lexer": "ipython3",
   "version": "3.9.17"
  },
  "orig_nbformat": 4
 },
 "nbformat": 4,
 "nbformat_minor": 2
}
